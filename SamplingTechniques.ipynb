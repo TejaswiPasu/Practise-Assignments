{
 "cells": [
  {
   "cell_type": "code",
   "execution_count": 10,
   "id": "431b2504",
   "metadata": {},
   "outputs": [
    {
     "data": {
      "text/html": [
       "<div>\n",
       "<style scoped>\n",
       "    .dataframe tbody tr th:only-of-type {\n",
       "        vertical-align: middle;\n",
       "    }\n",
       "\n",
       "    .dataframe tbody tr th {\n",
       "        vertical-align: top;\n",
       "    }\n",
       "\n",
       "    .dataframe thead th {\n",
       "        text-align: right;\n",
       "    }\n",
       "</style>\n",
       "<table border=\"1\" class=\"dataframe\">\n",
       "  <thead>\n",
       "    <tr style=\"text-align: right;\">\n",
       "      <th></th>\n",
       "      <th>Age</th>\n",
       "      <th>Income</th>\n",
       "      <th>Class</th>\n",
       "    </tr>\n",
       "  </thead>\n",
       "  <tbody>\n",
       "    <tr>\n",
       "      <th>0</th>\n",
       "      <td>23</td>\n",
       "      <td>2000</td>\n",
       "      <td>low</td>\n",
       "    </tr>\n",
       "    <tr>\n",
       "      <th>1</th>\n",
       "      <td>34</td>\n",
       "      <td>2500</td>\n",
       "      <td>low</td>\n",
       "    </tr>\n",
       "    <tr>\n",
       "      <th>2</th>\n",
       "      <td>45</td>\n",
       "      <td>3000</td>\n",
       "      <td>low</td>\n",
       "    </tr>\n",
       "    <tr>\n",
       "      <th>3</th>\n",
       "      <td>25</td>\n",
       "      <td>5000</td>\n",
       "      <td>high</td>\n",
       "    </tr>\n",
       "    <tr>\n",
       "      <th>4</th>\n",
       "      <td>65</td>\n",
       "      <td>4500</td>\n",
       "      <td>high</td>\n",
       "    </tr>\n",
       "    <tr>\n",
       "      <th>5</th>\n",
       "      <td>55</td>\n",
       "      <td>56000</td>\n",
       "      <td>high</td>\n",
       "    </tr>\n",
       "    <tr>\n",
       "      <th>6</th>\n",
       "      <td>50</td>\n",
       "      <td>45000</td>\n",
       "      <td>high</td>\n",
       "    </tr>\n",
       "    <tr>\n",
       "      <th>7</th>\n",
       "      <td>70</td>\n",
       "      <td>34000</td>\n",
       "      <td>low</td>\n",
       "    </tr>\n",
       "  </tbody>\n",
       "</table>\n",
       "</div>"
      ],
      "text/plain": [
       "   Age  Income Class\n",
       "0   23    2000   low\n",
       "1   34    2500   low\n",
       "2   45    3000   low\n",
       "3   25    5000  high\n",
       "4   65    4500  high\n",
       "5   55   56000  high\n",
       "6   50   45000  high\n",
       "7   70   34000   low"
      ]
     },
     "execution_count": 10,
     "metadata": {},
     "output_type": "execute_result"
    }
   ],
   "source": [
    "import pandas as pd\n",
    "from sklearn.utils import resample\n",
    "df=pd.DataFrame({\n",
    "    'Age':[23,34,45,25,65,55,50,70],\n",
    "    'Income':[2000,2500,3000,5000,4500,56000,45000,34000],\n",
    "'Class':['low','low','low','high','high','high','high','low']\n",
    "})\n",
    "df"
   ]
  },
  {
   "cell_type": "code",
   "execution_count": 11,
   "id": "1f398224",
   "metadata": {},
   "outputs": [
    {
     "name": "stdout",
     "output_type": "stream",
     "text": [
      "   Age  Income Class\n",
      "4   65    4500  high\n",
      "6   50   45000  high\n",
      "3   25    5000  high\n",
      "5   55   56000  high\n"
     ]
    }
   ],
   "source": [
    "dfhigh=df[df['Class'] == 'high']\n",
    "dflow=df[df['Class'] == 'low']\n",
    "df_highdown=resample(dfhigh,replace=False,n_samples=len(dflow),random_state=42)\n",
    "dfbalance=pd.concat([df_highdown,dflow])\n",
    "print(df_highdown)"
   ]
  },
  {
   "cell_type": "code",
   "execution_count": 12,
   "id": "04638c4b",
   "metadata": {},
   "outputs": [
    {
     "name": "stdout",
     "output_type": "stream",
     "text": [
      "Class\n",
      "high    4\n",
      "low     4\n",
      "Name: count, dtype: int64\n"
     ]
    }
   ],
   "source": [
    "print(dfbalance['Class'].value_counts())"
   ]
  },
  {
   "cell_type": "code",
   "execution_count": 13,
   "id": "b8ff1f87",
   "metadata": {},
   "outputs": [
    {
     "name": "stdout",
     "output_type": "stream",
     "text": [
      "   Age  Income Class\n",
      "3   25    5000  high\n",
      "4   65    4500  high\n",
      "5   55   56000  high\n",
      "6   50   45000  high    Age  Income Class\n",
      "0   23    2000   low\n",
      "1   34    2500   low\n",
      "2   45    3000   low\n",
      "7   70   34000   low\n"
     ]
    }
   ],
   "source": [
    "print(dfhigh,dflow)"
   ]
  },
  {
   "cell_type": "code",
   "execution_count": 20,
   "id": "01f64e38",
   "metadata": {},
   "outputs": [
    {
     "name": "stdout",
     "output_type": "stream",
     "text": [
      "   Age  Income Class\n",
      "2   45    3000   low\n",
      "7   70   34000   low\n",
      "0   23    2000   low\n",
      "2   45    3000   low\n",
      "2   45    3000   low\n",
      "7   70   34000   low\n",
      "0   23    2000   low\n",
      "0   23    2000   low\n"
     ]
    }
   ],
   "source": [
    "df_lowup=resample(dflow,replace=True,n_samples=len(dflow)*2,random_state=42)\n",
    "dfbalanced=pd.concat([df_lowup,dfhigh])\n",
    "print(df_lowup)"
   ]
  },
  {
   "cell_type": "code",
   "execution_count": 18,
   "id": "ba03918b",
   "metadata": {},
   "outputs": [
    {
     "name": "stdout",
     "output_type": "stream",
     "text": [
      "Class\n",
      "low     4\n",
      "high    4\n",
      "Name: count, dtype: int64\n"
     ]
    }
   ],
   "source": [
    "print(dfbalanced['Class'].value_counts())"
   ]
  },
  {
   "cell_type": "markdown",
   "id": "3a267746",
   "metadata": {},
   "source": [
    "***Smote***"
   ]
  },
  {
   "cell_type": "code",
   "execution_count": 21,
   "id": "77cf538f",
   "metadata": {},
   "outputs": [
    {
     "name": "stdout",
     "output_type": "stream",
     "text": [
      "Requirement already satisfied: imbalanced-learn in c:\\users\\cvr\\anaconda3\\lib\\site-packages (0.10.1)\n",
      "Requirement already satisfied: numpy>=1.17.3 in c:\\users\\cvr\\anaconda3\\lib\\site-packages (from imbalanced-learn) (1.24.3)\n",
      "Requirement already satisfied: scipy>=1.3.2 in c:\\users\\cvr\\anaconda3\\lib\\site-packages (from imbalanced-learn) (1.11.1)\n",
      "Requirement already satisfied: scikit-learn>=1.0.2 in c:\\users\\cvr\\anaconda3\\lib\\site-packages (from imbalanced-learn) (1.3.0)\n",
      "Requirement already satisfied: joblib>=1.1.1 in c:\\users\\cvr\\anaconda3\\lib\\site-packages (from imbalanced-learn) (1.2.0)\n",
      "Requirement already satisfied: threadpoolctl>=2.0.0 in c:\\users\\cvr\\anaconda3\\lib\\site-packages (from imbalanced-learn) (2.2.0)\n",
      "Note: you may need to restart the kernel to use updated packages.\n"
     ]
    }
   ],
   "source": [
    "pip install imbalanced-learn\n"
   ]
  },
  {
   "cell_type": "markdown",
   "id": "08766254",
   "metadata": {},
   "source": [
    "***Smote to generate synthetic samples instead of duplicating exsiting ones\n",
    "\n",
    "2.Convert categorical class labels into numeric form for smote to work\n",
    "\n",
    "3.apply smote to balance the dataset\n",
    "\n",
    "4.convert back to original categorical labels\n",
    "\n",
    "5.combine the resampled data into a final balanced dataset***"
   ]
  },
  {
   "cell_type": "code",
   "execution_count": 1,
   "id": "dc4e2b22",
   "metadata": {},
   "outputs": [
    {
     "name": "stdout",
     "output_type": "stream",
     "text": [
      "   age  income class\n",
      "0   22    2000   min\n",
      "1   25   38000   min\n",
      "2   27   43000   max\n",
      "3   28    5000   max\n",
      "4   30    6000   max\n"
     ]
    }
   ],
   "source": [
    "import pandas as pd\n",
    "from imblearn.over_sampling import SMOTE\n",
    "\n",
    "# Sample DataFrame\n",
    "df = pd.DataFrame({\n",
    "    'age': [22, 25, 27, 28, 30],\n",
    "    'income': [2000, 38000, 43000, 5000, 6000],\n",
    "    'class': ['min', 'min', 'max', 'max', 'max']\n",
    "})\n",
    "\n",
    "print(df)\n"
   ]
  },
  {
   "cell_type": "code",
   "execution_count": 31,
   "id": "f55a297f",
   "metadata": {},
   "outputs": [
    {
     "name": "stdout",
     "output_type": "stream",
     "text": [
      "Name: imbalanced-learn\n",
      "Version: 0.12.2\n",
      "Summary: Toolbox for imbalanced dataset in machine learning.\n",
      "Home-page: https://github.com/scikit-learn-contrib/imbalanced-learn\n",
      "Author: \n",
      "Author-email: \n",
      "License: MIT\n",
      "Location: C:\\Users\\cvr\\anaconda3\\Lib\\site-packages\n",
      "Requires: joblib, numpy, scikit-learn, scipy, threadpoolctl\n",
      "Required-by: \n",
      "Note: you may need to restart the kernel to use updated packages.\n"
     ]
    }
   ],
   "source": [
    "pip show imbalanced-learn\n"
   ]
  },
  {
   "cell_type": "code",
   "execution_count": null,
   "id": "a6885e80",
   "metadata": {},
   "outputs": [],
   "source": [
    "!pip install --upgrade scikit-learn imbalanced-learn\n"
   ]
  },
  {
   "cell_type": "code",
   "execution_count": 8,
   "id": "9b039a05",
   "metadata": {},
   "outputs": [
    {
     "name": "stdout",
     "output_type": "stream",
     "text": [
      "Requirement already satisfied: scikit-learn in c:\\users\\cvr\\anaconda3\\lib\\site-packages (1.6.1)\n",
      "Requirement already satisfied: imbalanced-learn in c:\\users\\cvr\\anaconda3\\lib\\site-packages (0.13.0)\n",
      "Requirement already satisfied: numpy>=1.19.5 in c:\\users\\cvr\\anaconda3\\lib\\site-packages (from scikit-learn) (1.24.3)\n",
      "Requirement already satisfied: scipy>=1.6.0 in c:\\users\\cvr\\anaconda3\\lib\\site-packages (from scikit-learn) (1.11.1)\n",
      "Requirement already satisfied: joblib>=1.2.0 in c:\\users\\cvr\\anaconda3\\lib\\site-packages (from scikit-learn) (1.2.0)\n",
      "Requirement already satisfied: threadpoolctl>=3.1.0 in c:\\users\\cvr\\anaconda3\\lib\\site-packages (from scikit-learn) (3.5.0)\n",
      "Requirement already satisfied: sklearn-compat<1,>=0.1 in c:\\users\\cvr\\anaconda3\\lib\\site-packages (from imbalanced-learn) (0.1.3)\n",
      "Note: you may need to restart the kernel to use updated packages.\n"
     ]
    }
   ],
   "source": [
    "pip install -U scikit-learn imbalanced-learn"
   ]
  },
  {
   "cell_type": "code",
   "execution_count": 5,
   "id": "d5f424a9",
   "metadata": {},
   "outputs": [
    {
     "name": "stdout",
     "output_type": "stream",
     "text": [
      "class\n",
      "min    3\n",
      "max    3\n",
      "Name: count, dtype: int64\n"
     ]
    },
    {
     "data": {
      "text/html": [
       "<div>\n",
       "<style scoped>\n",
       "    .dataframe tbody tr th:only-of-type {\n",
       "        vertical-align: middle;\n",
       "    }\n",
       "\n",
       "    .dataframe tbody tr th {\n",
       "        vertical-align: top;\n",
       "    }\n",
       "\n",
       "    .dataframe thead th {\n",
       "        text-align: right;\n",
       "    }\n",
       "</style>\n",
       "<table border=\"1\" class=\"dataframe\">\n",
       "  <thead>\n",
       "    <tr style=\"text-align: right;\">\n",
       "      <th></th>\n",
       "      <th>age</th>\n",
       "      <th>income</th>\n",
       "      <th>class</th>\n",
       "    </tr>\n",
       "  </thead>\n",
       "  <tbody>\n",
       "    <tr>\n",
       "      <th>0</th>\n",
       "      <td>22</td>\n",
       "      <td>2000</td>\n",
       "      <td>min</td>\n",
       "    </tr>\n",
       "    <tr>\n",
       "      <th>1</th>\n",
       "      <td>25</td>\n",
       "      <td>38000</td>\n",
       "      <td>min</td>\n",
       "    </tr>\n",
       "    <tr>\n",
       "      <th>2</th>\n",
       "      <td>27</td>\n",
       "      <td>43000</td>\n",
       "      <td>max</td>\n",
       "    </tr>\n",
       "    <tr>\n",
       "      <th>3</th>\n",
       "      <td>28</td>\n",
       "      <td>5000</td>\n",
       "      <td>max</td>\n",
       "    </tr>\n",
       "    <tr>\n",
       "      <th>4</th>\n",
       "      <td>30</td>\n",
       "      <td>6000</td>\n",
       "      <td>max</td>\n",
       "    </tr>\n",
       "    <tr>\n",
       "      <th>5</th>\n",
       "      <td>24</td>\n",
       "      <td>30675</td>\n",
       "      <td>min</td>\n",
       "    </tr>\n",
       "  </tbody>\n",
       "</table>\n",
       "</div>"
      ],
      "text/plain": [
       "   age  income class\n",
       "0   22    2000   min\n",
       "1   25   38000   min\n",
       "2   27   43000   max\n",
       "3   28    5000   max\n",
       "4   30    6000   max\n",
       "5   24   30675   min"
      ]
     },
     "execution_count": 5,
     "metadata": {},
     "output_type": "execute_result"
    }
   ],
   "source": [
    "import pandas as pd\n",
    "from imblearn.over_sampling import SMOTE\n",
    "\n",
    "# Sample DataFrame\n",
    "df = pd.DataFrame({\n",
    "    'age': [22, 25, 27, 28, 30],\n",
    "    'income': [2000, 38000, 43000, 5000, 6000],\n",
    "    'class': ['min', 'min', 'max', 'max', 'max']\n",
    "})\n",
    "\n",
    "# Mapping 'max' -> 0, 'min' -> 1\n",
    "df['class'] = df['class'].map({'max': 0, 'min': 1})\n",
    "\n",
    "# Features and target\n",
    "x = df[['age', 'income']]\n",
    "y = df['class']\n",
    "\n",
    "# Apply SMOTE with 2 nearest neighbors and set sampling_strategy=1.0 to balance the classes\n",
    "smote = SMOTE(sampling_strategy=1.0, random_state=42, k_neighbors=1)\n",
    "X, Y = smote.fit_resample(x, y)\n",
    "\n",
    "# Map back the values of the 'class' column\n",
    "Y = Y.map({0: 'max', 1: 'min'})\n",
    "\n",
    "# Combine the resampled data into a new DataFrame\n",
    "df_balance = pd.concat([pd.DataFrame(X, columns=['age', 'income']), pd.DataFrame(Y, columns=['class'])], axis=1)\n",
    "\n",
    "# Print the value counts of the 'class' column\n",
    "print(df_balance['class'].value_counts())\n",
    "df_balance\n"
   ]
  },
  {
   "cell_type": "code",
   "execution_count": null,
   "id": "a51af8a9",
   "metadata": {},
   "outputs": [],
   "source": []
  }
 ],
 "metadata": {
  "kernelspec": {
   "display_name": "Python 3 (ipykernel)",
   "language": "python",
   "name": "python3"
  },
  "language_info": {
   "codemirror_mode": {
    "name": "ipython",
    "version": 3
   },
   "file_extension": ".py",
   "mimetype": "text/x-python",
   "name": "python",
   "nbconvert_exporter": "python",
   "pygments_lexer": "ipython3",
   "version": "3.11.5"
  }
 },
 "nbformat": 4,
 "nbformat_minor": 5
}
