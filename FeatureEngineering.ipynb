{
 "cells": [
  {
   "cell_type": "code",
   "execution_count": 2,
   "id": "d21383c9",
   "metadata": {},
   "outputs": [
    {
     "data": {
      "text/html": [
       "<div>\n",
       "<style scoped>\n",
       "    .dataframe tbody tr th:only-of-type {\n",
       "        vertical-align: middle;\n",
       "    }\n",
       "\n",
       "    .dataframe tbody tr th {\n",
       "        vertical-align: top;\n",
       "    }\n",
       "\n",
       "    .dataframe thead th {\n",
       "        text-align: right;\n",
       "    }\n",
       "</style>\n",
       "<table border=\"1\" class=\"dataframe\">\n",
       "  <thead>\n",
       "    <tr style=\"text-align: right;\">\n",
       "      <th></th>\n",
       "      <th>transactiondate</th>\n",
       "      <th>dayofweek</th>\n",
       "      <th>isweekend</th>\n",
       "    </tr>\n",
       "  </thead>\n",
       "  <tbody>\n",
       "    <tr>\n",
       "      <th>0</th>\n",
       "      <td>2025-02-05 14:30:00</td>\n",
       "      <td>2</td>\n",
       "      <td>0</td>\n",
       "    </tr>\n",
       "    <tr>\n",
       "      <th>1</th>\n",
       "      <td>2025-02-06 18:45:00</td>\n",
       "      <td>3</td>\n",
       "      <td>0</td>\n",
       "    </tr>\n",
       "  </tbody>\n",
       "</table>\n",
       "</div>"
      ],
      "text/plain": [
       "      transactiondate  dayofweek  isweekend\n",
       "0 2025-02-05 14:30:00          2          0\n",
       "1 2025-02-06 18:45:00          3          0"
      ]
     },
     "execution_count": 2,
     "metadata": {},
     "output_type": "execute_result"
    }
   ],
   "source": [
    "import pandas as pd\n",
    "\n",
    "# Correct the column name and create the DataFrame\n",
    "df = pd.DataFrame({\n",
    "    'transactiondate': pd.to_datetime(['2025-02-05 14:30:00', '2025-02-06 18:45:00'])\n",
    "})\n",
    "\n",
    "# Extract the day of the week and assign it to the 'dayofweek' column\n",
    "df['dayofweek'] = df['transactiondate'].dt.dayofweek  # 0=Monday, 6=Sunday\n",
    "\n",
    "# Create the 'isweekend' column: 1 if it's the weekend (Saturday or Sunday), 0 otherwise\n",
    "df['isweekend'] = df['dayofweek'].apply(lambda x: 1 if x >= 5 else 0)\n",
    "\n",
    "# Display the DataFrame\n",
    "df\n"
   ]
  },
  {
   "cell_type": "code",
   "execution_count": 3,
   "id": "e17fc171",
   "metadata": {},
   "outputs": [
    {
     "data": {
      "text/html": [
       "<div>\n",
       "<style scoped>\n",
       "    .dataframe tbody tr th:only-of-type {\n",
       "        vertical-align: middle;\n",
       "    }\n",
       "\n",
       "    .dataframe tbody tr th {\n",
       "        vertical-align: top;\n",
       "    }\n",
       "\n",
       "    .dataframe thead th {\n",
       "        text-align: right;\n",
       "    }\n",
       "</style>\n",
       "<table border=\"1\" class=\"dataframe\">\n",
       "  <thead>\n",
       "    <tr style=\"text-align: right;\">\n",
       "      <th></th>\n",
       "      <th>user_id</th>\n",
       "      <th>avgtransaction</th>\n",
       "    </tr>\n",
       "  </thead>\n",
       "  <tbody>\n",
       "    <tr>\n",
       "      <th>0</th>\n",
       "      <td>101</td>\n",
       "      <td>600.0</td>\n",
       "    </tr>\n",
       "    <tr>\n",
       "      <th>1</th>\n",
       "      <td>102</td>\n",
       "      <td>350.0</td>\n",
       "    </tr>\n",
       "    <tr>\n",
       "      <th>2</th>\n",
       "      <td>103</td>\n",
       "      <td>1000.0</td>\n",
       "    </tr>\n",
       "  </tbody>\n",
       "</table>\n",
       "</div>"
      ],
      "text/plain": [
       "   user_id  avgtransaction\n",
       "0      101           600.0\n",
       "1      102           350.0\n",
       "2      103          1000.0"
      ]
     },
     "execution_count": 3,
     "metadata": {},
     "output_type": "execute_result"
    }
   ],
   "source": [
    "import pandas as pd\n",
    "\n",
    "# Example DataFrame with user_id and transaction_amount columns\n",
    "df = pd.DataFrame({\n",
    "    'user_id': [101, 102, 101, 103, 102],\n",
    "    'transaction_amount': [500, 300, 700, 1000, 400]\n",
    "})\n",
    "\n",
    "# Calculate the total transaction amount per user using groupby\n",
    "transaction_per_user = df.groupby('user_id')['transaction_amount'].mean().reset_index()\n",
    "transaction_per_user.rename(columns={'transaction_amount':'avgtransaction'},inplace=True)\n",
    "\n",
    "# Display the result\n",
    "transaction_per_user\n"
   ]
  },
  {
   "cell_type": "code",
   "execution_count": 4,
   "id": "d204f038",
   "metadata": {},
   "outputs": [
    {
     "name": "stdout",
     "output_type": "stream",
     "text": [
      "   productcategory_clothing  productcategory_electronics  \\\n",
      "0                       0.0                          1.0   \n",
      "1                       1.0                          0.0   \n",
      "2                       1.0                          0.0   \n",
      "3                       0.0                          0.0   \n",
      "\n",
      "   productcategory_grocery  \n",
      "0                      0.0  \n",
      "1                      0.0  \n",
      "2                      0.0  \n",
      "3                      1.0  \n"
     ]
    }
   ],
   "source": [
    "import pandas as pd\n",
    "from sklearn.preprocessing import OneHotEncoder\n",
    "\n",
    "# Original DataFrame\n",
    "df = pd.DataFrame({'productcategory': ['electronics', 'clothing', 'clothing', 'grocery']})\n",
    "\n",
    "# Initialize OneHotEncoder (sparse_output=False to return a dense array)\n",
    "encoder = OneHotEncoder(sparse_output=False)\n",
    "\n",
    "# Fit and transform the 'productcategory' column to get the one-hot encoded features\n",
    "encoded_features = encoder.fit_transform(df[['productcategory']])\n",
    "\n",
    "# Create a DataFrame from the encoded features with proper column names\n",
    "df_encoded = pd.DataFrame(encoded_features, columns=encoder.get_feature_names_out())\n",
    "\n",
    "# Print the result\n",
    "print(df_encoded)\n"
   ]
  },
  {
   "cell_type": "markdown",
   "id": "7b68ac1f",
   "metadata": {},
   "source": [
    "**What is Feature Engineering?**\n",
    " \n",
    "Feature engineering is the process of creating new features or modifying existing ones to improve the performance of machine learning models. It involves techniques like feature extraction, transformation, encoding, and scaling to make data more useful for predictions.\n",
    "\n",
    "\n",
    "\n",
    "**Why Do We Need Feature Engineering?**\n",
    "\n",
    "\n",
    "1.**Improves Model Performance** – Good features help models make better predictions.\n",
    " \n",
    "2.**Reduces Overfitting** – Helps eliminate noise and irrelevant data.\n",
    " \n",
    "3.**Handles Missing Data** – Creates meaningful replacements for missing values.\n",
    " \n",
    "4.**Enables Better Interpretability** – Makes features more understandable and useful.\n",
    "\n",
    "5.**Reduces Dimensionality** – Helps remove unnecessary data points, making the model efficient.\n"
   ]
  },
  {
   "cell_type": "code",
   "execution_count": 5,
   "id": "a3fd330c",
   "metadata": {},
   "outputs": [
    {
     "name": "stdout",
     "output_type": "stream",
     "text": [
      "   transaction_amount  LogTransactionAmount\n",
      "0                 100              4.615121\n",
      "1                 200              5.303305\n",
      "2                5000              8.517393\n",
      "3               10000              9.210440\n",
      "4               20000              9.903538\n"
     ]
    }
   ],
   "source": [
    "import pandas as pd\n",
    "import numpy as np\n",
    "df = pd.DataFrame({'transaction_amount': [100, 200, 5000, 10000, 20000]})\n",
    "df['LogTransactionAmount'] = np.log1p(df['transaction_amount'])\n",
    "print(df)"
   ]
  },
  {
   "cell_type": "markdown",
   "id": "0acc1ba4",
   "metadata": {},
   "source": [
    "      **Final Summary of Feature Engineering & Imbalanced Data Handling**\n",
    " \n",
    "Feature Extraction : Extract new insights from raw data (e.g., Hour, DayOfWeek)\n",
    " \n",
    "Aggregated Features : Calculate meaningful statistics (e.g., AvgTransactionAmountPerUser)\n",
    " \n",
    "Encoding : Convert categorical variables into numerical (One-Hot Encoding)\n",
    " \n",
    "Log Transformation : Reduce skewness in data distribution\n",
    " \n",
    "Feature Scaling : Normalize numerical features for better model performance\n",
    " \n",
    "Downsampling: Reduce the size of the majority class\n",
    " \n",
    "Upsampling : Increase the size of the minority class\n",
    " \n",
    "SMOTE(Synthetic Minority Over-sampling Technique) : Generate synthetic samples for the minority class                      "
   ]
  },
  {
   "cell_type": "code",
   "execution_count": null,
   "id": "a62b63ed",
   "metadata": {},
   "outputs": [],
   "source": []
  }
 ],
 "metadata": {
  "kernelspec": {
   "display_name": "Python 3 (ipykernel)",
   "language": "python",
   "name": "python3"
  },
  "language_info": {
   "codemirror_mode": {
    "name": "ipython",
    "version": 3
   },
   "file_extension": ".py",
   "mimetype": "text/x-python",
   "name": "python",
   "nbconvert_exporter": "python",
   "pygments_lexer": "ipython3",
   "version": "3.11.5"
  }
 },
 "nbformat": 4,
 "nbformat_minor": 5
}
